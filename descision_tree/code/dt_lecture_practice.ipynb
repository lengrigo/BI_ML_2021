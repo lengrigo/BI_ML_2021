{
 "cells": [
  {
   "cell_type": "code",
   "execution_count": 74,
   "id": "b084d51a-694e-4cc8-99cb-f2e8cc62269d",
   "metadata": {},
   "outputs": [],
   "source": [
    "import pandas as pd\n",
    "import numpy as np\n",
    "import matplotlib.pyplot as plt\n",
    "from sklearn.tree import DecisionTreeClassifier\n",
    "from sklearn.model_selection import train_test_split\n",
    "from sklearn.metrics import f1_score\n",
    "from sklearn.model_selection import GridSearchCV\n",
    "from sklearn.neighbors import KNeighborsClassifier\n",
    "from sklearn.linear_model import LinearRegression\n",
    "from sklearn.cluster import AgglomerativeClustering"
   ]
  },
  {
   "cell_type": "markdown",
   "id": "ab8e95f5-5349-423d-8c28-e80f50a61ce2",
   "metadata": {},
   "source": [
    "Будем учиться классифицировать жанры музыки. В отличие от проекта, который вас ждет, здесь мы будем работать не с сырыми данными (аудиодорожками), а уже в осмысленными признаками (правда, не все из них имеют понятные названия). Сами данные можно найти [здесь](https://www.kaggle.com/purumalgi/music-genre-classification). Будем использовать файл `train.csv`. Нашей задачей будет предсказание переменной `Class` (жанр песни) при помощи деревьев решений. Можно попробовать также другие методы классификации, которые мы прошли, и сравнить результаты. При обучении всех моделей не забывайте про разделение на тренировку и тест (или кросс валидацию [ссылка](https://www.youtube.com/watch?v=fSytzGwwBVw))."
   ]
  },
  {
   "cell_type": "markdown",
   "id": "04e0c9f5-2043-4ed7-92e4-e53677b60df8",
   "metadata": {},
   "source": [
    "### Задание 1. EDA (10 баллов)\n",
    "\n",
    "Как обычно, начнем с того, что посмотрим на наши данные: типы переменных, пропущенные значения, баланс классов и все такое. Ваш ход:"
   ]
  },
  {
   "cell_type": "code",
   "execution_count": 75,
   "id": "1ab19c5c-4a2b-4388-8063-ec56e415408a",
   "metadata": {},
   "outputs": [
    {
     "data": {
      "text/plain": "             Artist Name                             Track Name  Popularity  \\\n0             Bruno Mars  That's What I Like (feat. Gucci Mane)        60.0   \n1                 Boston                           Hitch a Ride        54.0   \n2          The Raincoats                     No Side to Fall In        35.0   \n3                   Deno             Lingo (feat. J.I & Chunkz)        66.0   \n4  Red Hot Chili Peppers      Nobody Weird Like Me - Remastered        53.0   \n\n   danceability  energy   key  loudness  mode  speechiness  acousticness  \\\n0         0.854   0.564   1.0    -4.964     1       0.0485      0.017100   \n1         0.382   0.814   3.0    -7.230     1       0.0406      0.001100   \n2         0.434   0.614   6.0    -8.334     1       0.0525      0.486000   \n3         0.853   0.597  10.0    -6.528     0       0.0555      0.021200   \n4         0.167   0.975   2.0    -4.279     1       0.2160      0.000169   \n\n   instrumentalness  liveness  valence    tempo  duration_in min/ms  \\\n0               NaN    0.0849   0.8990  134.071            234596.0   \n1          0.004010    0.1010   0.5690  116.454            251733.0   \n2          0.000196    0.3940   0.7870  147.681            109667.0   \n3               NaN    0.1220   0.5690  107.033            173968.0   \n4          0.016100    0.1720   0.0918  199.060            229960.0   \n\n   time_signature  Class  \n0               4      5  \n1               4     10  \n2               4      6  \n3               4      5  \n4               4     10  ",
      "text/html": "<div>\n<style scoped>\n    .dataframe tbody tr th:only-of-type {\n        vertical-align: middle;\n    }\n\n    .dataframe tbody tr th {\n        vertical-align: top;\n    }\n\n    .dataframe thead th {\n        text-align: right;\n    }\n</style>\n<table border=\"1\" class=\"dataframe\">\n  <thead>\n    <tr style=\"text-align: right;\">\n      <th></th>\n      <th>Artist Name</th>\n      <th>Track Name</th>\n      <th>Popularity</th>\n      <th>danceability</th>\n      <th>energy</th>\n      <th>key</th>\n      <th>loudness</th>\n      <th>mode</th>\n      <th>speechiness</th>\n      <th>acousticness</th>\n      <th>instrumentalness</th>\n      <th>liveness</th>\n      <th>valence</th>\n      <th>tempo</th>\n      <th>duration_in min/ms</th>\n      <th>time_signature</th>\n      <th>Class</th>\n    </tr>\n  </thead>\n  <tbody>\n    <tr>\n      <th>0</th>\n      <td>Bruno Mars</td>\n      <td>That's What I Like (feat. Gucci Mane)</td>\n      <td>60.0</td>\n      <td>0.854</td>\n      <td>0.564</td>\n      <td>1.0</td>\n      <td>-4.964</td>\n      <td>1</td>\n      <td>0.0485</td>\n      <td>0.017100</td>\n      <td>NaN</td>\n      <td>0.0849</td>\n      <td>0.8990</td>\n      <td>134.071</td>\n      <td>234596.0</td>\n      <td>4</td>\n      <td>5</td>\n    </tr>\n    <tr>\n      <th>1</th>\n      <td>Boston</td>\n      <td>Hitch a Ride</td>\n      <td>54.0</td>\n      <td>0.382</td>\n      <td>0.814</td>\n      <td>3.0</td>\n      <td>-7.230</td>\n      <td>1</td>\n      <td>0.0406</td>\n      <td>0.001100</td>\n      <td>0.004010</td>\n      <td>0.1010</td>\n      <td>0.5690</td>\n      <td>116.454</td>\n      <td>251733.0</td>\n      <td>4</td>\n      <td>10</td>\n    </tr>\n    <tr>\n      <th>2</th>\n      <td>The Raincoats</td>\n      <td>No Side to Fall In</td>\n      <td>35.0</td>\n      <td>0.434</td>\n      <td>0.614</td>\n      <td>6.0</td>\n      <td>-8.334</td>\n      <td>1</td>\n      <td>0.0525</td>\n      <td>0.486000</td>\n      <td>0.000196</td>\n      <td>0.3940</td>\n      <td>0.7870</td>\n      <td>147.681</td>\n      <td>109667.0</td>\n      <td>4</td>\n      <td>6</td>\n    </tr>\n    <tr>\n      <th>3</th>\n      <td>Deno</td>\n      <td>Lingo (feat. J.I &amp; Chunkz)</td>\n      <td>66.0</td>\n      <td>0.853</td>\n      <td>0.597</td>\n      <td>10.0</td>\n      <td>-6.528</td>\n      <td>0</td>\n      <td>0.0555</td>\n      <td>0.021200</td>\n      <td>NaN</td>\n      <td>0.1220</td>\n      <td>0.5690</td>\n      <td>107.033</td>\n      <td>173968.0</td>\n      <td>4</td>\n      <td>5</td>\n    </tr>\n    <tr>\n      <th>4</th>\n      <td>Red Hot Chili Peppers</td>\n      <td>Nobody Weird Like Me - Remastered</td>\n      <td>53.0</td>\n      <td>0.167</td>\n      <td>0.975</td>\n      <td>2.0</td>\n      <td>-4.279</td>\n      <td>1</td>\n      <td>0.2160</td>\n      <td>0.000169</td>\n      <td>0.016100</td>\n      <td>0.1720</td>\n      <td>0.0918</td>\n      <td>199.060</td>\n      <td>229960.0</td>\n      <td>4</td>\n      <td>10</td>\n    </tr>\n  </tbody>\n</table>\n</div>"
     },
     "execution_count": 75,
     "metadata": {},
     "output_type": "execute_result"
    }
   ],
   "source": [
    "data = pd.read_csv(\"../data/train.csv\")\n",
    "data.head()"
   ]
  },
  {
   "cell_type": "code",
   "execution_count": 76,
   "id": "d19b38c0-2bbd-476d-8ec8-c244fb8b2a78",
   "metadata": {},
   "outputs": [
    {
     "data": {
      "text/plain": "         Popularity  danceability        energy           key      loudness  \\\ncount  17568.000000  17996.000000  17996.000000  15982.000000  17996.000000   \nmean      44.512124      0.543433      0.662777      5.952447     -7.910660   \nstd       17.426928      0.166268      0.235373      3.196854      4.049151   \nmin        1.000000      0.059600      0.000020      1.000000    -39.952000   \n25%       33.000000      0.432000      0.509000      3.000000     -9.538000   \n50%       44.000000      0.545000      0.700000      6.000000     -7.016000   \n75%       56.000000      0.659000      0.860000      9.000000     -5.189000   \nmax      100.000000      0.989000      1.000000     11.000000      1.355000   \n\n               mode   speechiness  acousticness  instrumentalness  \\\ncount  17996.000000  17996.000000  17996.000000      13619.000000   \nmean       0.636753      0.079707      0.247082          0.177562   \nstd        0.480949      0.083576      0.310632          0.304048   \nmin        0.000000      0.022500      0.000000          0.000001   \n25%        0.000000      0.034800      0.004300          0.000089   \n50%        1.000000      0.047400      0.081400          0.003910   \n75%        1.000000      0.083000      0.434000          0.200000   \nmax        1.000000      0.955000      0.996000          0.996000   \n\n           liveness       valence         tempo  duration_in min/ms  \\\ncount  17996.000000  17996.000000  17996.000000        1.799600e+04   \nmean       0.196170      0.486208    122.623294        2.007445e+05   \nstd        0.159212      0.240195     29.571527        1.119891e+05   \nmin        0.011900      0.018300     30.557000        5.016500e-01   \n25%        0.097500      0.297000     99.620750        1.663370e+05   \n50%        0.129000      0.481000    120.065500        2.091600e+05   \n75%        0.258000      0.672000    141.969250        2.524900e+05   \nmax        1.000000      0.986000    217.416000        1.477187e+06   \n\n       time_signature         Class  \ncount    17996.000000  17996.000000  \nmean         3.924039      6.695821  \nstd          0.361618      3.206073  \nmin          1.000000      0.000000  \n25%          4.000000      5.000000  \n50%          4.000000      8.000000  \n75%          4.000000     10.000000  \nmax          5.000000     10.000000  ",
      "text/html": "<div>\n<style scoped>\n    .dataframe tbody tr th:only-of-type {\n        vertical-align: middle;\n    }\n\n    .dataframe tbody tr th {\n        vertical-align: top;\n    }\n\n    .dataframe thead th {\n        text-align: right;\n    }\n</style>\n<table border=\"1\" class=\"dataframe\">\n  <thead>\n    <tr style=\"text-align: right;\">\n      <th></th>\n      <th>Popularity</th>\n      <th>danceability</th>\n      <th>energy</th>\n      <th>key</th>\n      <th>loudness</th>\n      <th>mode</th>\n      <th>speechiness</th>\n      <th>acousticness</th>\n      <th>instrumentalness</th>\n      <th>liveness</th>\n      <th>valence</th>\n      <th>tempo</th>\n      <th>duration_in min/ms</th>\n      <th>time_signature</th>\n      <th>Class</th>\n    </tr>\n  </thead>\n  <tbody>\n    <tr>\n      <th>count</th>\n      <td>17568.000000</td>\n      <td>17996.000000</td>\n      <td>17996.000000</td>\n      <td>15982.000000</td>\n      <td>17996.000000</td>\n      <td>17996.000000</td>\n      <td>17996.000000</td>\n      <td>17996.000000</td>\n      <td>13619.000000</td>\n      <td>17996.000000</td>\n      <td>17996.000000</td>\n      <td>17996.000000</td>\n      <td>1.799600e+04</td>\n      <td>17996.000000</td>\n      <td>17996.000000</td>\n    </tr>\n    <tr>\n      <th>mean</th>\n      <td>44.512124</td>\n      <td>0.543433</td>\n      <td>0.662777</td>\n      <td>5.952447</td>\n      <td>-7.910660</td>\n      <td>0.636753</td>\n      <td>0.079707</td>\n      <td>0.247082</td>\n      <td>0.177562</td>\n      <td>0.196170</td>\n      <td>0.486208</td>\n      <td>122.623294</td>\n      <td>2.007445e+05</td>\n      <td>3.924039</td>\n      <td>6.695821</td>\n    </tr>\n    <tr>\n      <th>std</th>\n      <td>17.426928</td>\n      <td>0.166268</td>\n      <td>0.235373</td>\n      <td>3.196854</td>\n      <td>4.049151</td>\n      <td>0.480949</td>\n      <td>0.083576</td>\n      <td>0.310632</td>\n      <td>0.304048</td>\n      <td>0.159212</td>\n      <td>0.240195</td>\n      <td>29.571527</td>\n      <td>1.119891e+05</td>\n      <td>0.361618</td>\n      <td>3.206073</td>\n    </tr>\n    <tr>\n      <th>min</th>\n      <td>1.000000</td>\n      <td>0.059600</td>\n      <td>0.000020</td>\n      <td>1.000000</td>\n      <td>-39.952000</td>\n      <td>0.000000</td>\n      <td>0.022500</td>\n      <td>0.000000</td>\n      <td>0.000001</td>\n      <td>0.011900</td>\n      <td>0.018300</td>\n      <td>30.557000</td>\n      <td>5.016500e-01</td>\n      <td>1.000000</td>\n      <td>0.000000</td>\n    </tr>\n    <tr>\n      <th>25%</th>\n      <td>33.000000</td>\n      <td>0.432000</td>\n      <td>0.509000</td>\n      <td>3.000000</td>\n      <td>-9.538000</td>\n      <td>0.000000</td>\n      <td>0.034800</td>\n      <td>0.004300</td>\n      <td>0.000089</td>\n      <td>0.097500</td>\n      <td>0.297000</td>\n      <td>99.620750</td>\n      <td>1.663370e+05</td>\n      <td>4.000000</td>\n      <td>5.000000</td>\n    </tr>\n    <tr>\n      <th>50%</th>\n      <td>44.000000</td>\n      <td>0.545000</td>\n      <td>0.700000</td>\n      <td>6.000000</td>\n      <td>-7.016000</td>\n      <td>1.000000</td>\n      <td>0.047400</td>\n      <td>0.081400</td>\n      <td>0.003910</td>\n      <td>0.129000</td>\n      <td>0.481000</td>\n      <td>120.065500</td>\n      <td>2.091600e+05</td>\n      <td>4.000000</td>\n      <td>8.000000</td>\n    </tr>\n    <tr>\n      <th>75%</th>\n      <td>56.000000</td>\n      <td>0.659000</td>\n      <td>0.860000</td>\n      <td>9.000000</td>\n      <td>-5.189000</td>\n      <td>1.000000</td>\n      <td>0.083000</td>\n      <td>0.434000</td>\n      <td>0.200000</td>\n      <td>0.258000</td>\n      <td>0.672000</td>\n      <td>141.969250</td>\n      <td>2.524900e+05</td>\n      <td>4.000000</td>\n      <td>10.000000</td>\n    </tr>\n    <tr>\n      <th>max</th>\n      <td>100.000000</td>\n      <td>0.989000</td>\n      <td>1.000000</td>\n      <td>11.000000</td>\n      <td>1.355000</td>\n      <td>1.000000</td>\n      <td>0.955000</td>\n      <td>0.996000</td>\n      <td>0.996000</td>\n      <td>1.000000</td>\n      <td>0.986000</td>\n      <td>217.416000</td>\n      <td>1.477187e+06</td>\n      <td>5.000000</td>\n      <td>10.000000</td>\n    </tr>\n  </tbody>\n</table>\n</div>"
     },
     "execution_count": 76,
     "metadata": {},
     "output_type": "execute_result"
    }
   ],
   "source": [
    "data.describe()"
   ]
  },
  {
   "cell_type": "code",
   "execution_count": 77,
   "outputs": [
    {
     "data": {
      "text/plain": "Artist Name              0\nTrack Name               0\nPopularity             428\ndanceability             0\nenergy                   0\nkey                   2014\nloudness                 0\nmode                     0\nspeechiness              0\nacousticness             0\ninstrumentalness      4377\nliveness                 0\nvalence                  0\ntempo                    0\nduration_in min/ms       0\ntime_signature           0\nClass                    0\ndtype: int64"
     },
     "execution_count": 77,
     "metadata": {},
     "output_type": "execute_result"
    }
   ],
   "source": [
    "data.isna().sum()"
   ],
   "metadata": {
    "collapsed": false,
    "pycharm": {
     "name": "#%%\n"
    }
   }
  },
  {
   "cell_type": "code",
   "execution_count": 78,
   "outputs": [
    {
     "name": "stdout",
     "output_type": "stream",
     "text": [
      "<class 'pandas.core.frame.DataFrame'>\n",
      "RangeIndex: 17996 entries, 0 to 17995\n",
      "Data columns (total 17 columns):\n",
      " #   Column              Non-Null Count  Dtype  \n",
      "---  ------              --------------  -----  \n",
      " 0   Artist Name         17996 non-null  object \n",
      " 1   Track Name          17996 non-null  object \n",
      " 2   Popularity          17568 non-null  float64\n",
      " 3   danceability        17996 non-null  float64\n",
      " 4   energy              17996 non-null  float64\n",
      " 5   key                 15982 non-null  float64\n",
      " 6   loudness            17996 non-null  float64\n",
      " 7   mode                17996 non-null  int64  \n",
      " 8   speechiness         17996 non-null  float64\n",
      " 9   acousticness        17996 non-null  float64\n",
      " 10  instrumentalness    13619 non-null  float64\n",
      " 11  liveness            17996 non-null  float64\n",
      " 12  valence             17996 non-null  float64\n",
      " 13  tempo               17996 non-null  float64\n",
      " 14  duration_in min/ms  17996 non-null  float64\n",
      " 15  time_signature      17996 non-null  int64  \n",
      " 16  Class               17996 non-null  int64  \n",
      "dtypes: float64(12), int64(3), object(2)\n",
      "memory usage: 2.3+ MB\n"
     ]
    }
   ],
   "source": [
    "data.info()"
   ],
   "metadata": {
    "collapsed": false,
    "pycharm": {
     "name": "#%%\n"
    }
   }
  },
  {
   "cell_type": "code",
   "execution_count": 79,
   "outputs": [
    {
     "name": "stdout",
     "output_type": "stream",
     "text": [
      "       amount of elements in class\n",
      "class                             \n",
      "10                            4949\n",
      "6                             2587\n",
      "9                             2524\n",
      "8                             1854\n",
      "5                             1447\n",
      "1                             1373\n",
      "2                             1272\n",
      "0                              625\n",
      "7                              576\n",
      "3                              402\n",
      "4                              387\n"
     ]
    },
    {
     "data": {
      "text/plain": "       amount of elements in class\ncount                    11.000000\nmean                   1636.000000\nstd                    1348.417665\nmin                     387.000000\n25%                     600.500000\n50%                    1373.000000\n75%                    2189.000000\nmax                    4949.000000",
      "text/html": "<div>\n<style scoped>\n    .dataframe tbody tr th:only-of-type {\n        vertical-align: middle;\n    }\n\n    .dataframe tbody tr th {\n        vertical-align: top;\n    }\n\n    .dataframe thead th {\n        text-align: right;\n    }\n</style>\n<table border=\"1\" class=\"dataframe\">\n  <thead>\n    <tr style=\"text-align: right;\">\n      <th></th>\n      <th>amount of elements in class</th>\n    </tr>\n  </thead>\n  <tbody>\n    <tr>\n      <th>count</th>\n      <td>11.000000</td>\n    </tr>\n    <tr>\n      <th>mean</th>\n      <td>1636.000000</td>\n    </tr>\n    <tr>\n      <th>std</th>\n      <td>1348.417665</td>\n    </tr>\n    <tr>\n      <th>min</th>\n      <td>387.000000</td>\n    </tr>\n    <tr>\n      <th>25%</th>\n      <td>600.500000</td>\n    </tr>\n    <tr>\n      <th>50%</th>\n      <td>1373.000000</td>\n    </tr>\n    <tr>\n      <th>75%</th>\n      <td>2189.000000</td>\n    </tr>\n    <tr>\n      <th>max</th>\n      <td>4949.000000</td>\n    </tr>\n  </tbody>\n</table>\n</div>"
     },
     "execution_count": 79,
     "metadata": {},
     "output_type": "execute_result"
    }
   ],
   "source": [
    "classes = pd.DataFrame({'amount of elements in class':data.Class.value_counts(),\n",
    "                        'class':data.Class.value_counts().index}).set_index('class')\n",
    "print(classes)\n",
    "classes.describe()"
   ],
   "metadata": {
    "collapsed": false,
    "pycharm": {
     "name": "#%%\n"
    }
   }
  },
  {
   "cell_type": "code",
   "execution_count": 80,
   "outputs": [
    {
     "data": {
      "text/plain": "<Figure size 720x432 with 15 Axes>",
      "image/png": "[encoded data removed]"
     },
     "metadata": {
      "needs_background": "light"
     },
     "output_type": "display_data"
    }
   ],
   "source": [
    "plot_data = data.drop(data.columns[[0,1]], axis=1)\n",
    "plt.figure(figsize=(10, 6))\n",
    "for i in range(plot_data.shape[1]):\n",
    "    plt.subplot(3, 5, i+1)\n",
    "    plt.tight_layout()\n",
    "    plt.hist(x=plot_data.iloc[:,[i]])\n",
    "    plt.title(plot_data.columns[i])\n",
    "plt.show()"
   ],
   "metadata": {
    "collapsed": false,
    "pycharm": {
     "name": "#%%\n"
    }
   }
  },
  {
   "cell_type": "markdown",
   "id": "d7dfab66-247d-423e-a4f9-5891ce11627b",
   "metadata": {},
   "source": [
    "### Задание 2. Обучение дерева решений (10 баллов)\n",
    "\n",
    "Предобработайте признаки так, чтобы их можно было подать в модель дерева решений и обучите ее, постарайтесь подобрать оптимальные гиперпараметры, которые вам известны. Постарайтесь также обосновать выбор метрики в данном случае. При подборе гиперпараметров может помочь `GridSearchCV` [ссылка](https://scikit-learn.org/stable/modules/generated/sklearn.model_selection.GridSearchCV.html)."
   ]
  },
  {
   "cell_type": "markdown",
   "source": [
    "Уберем колонки с именем исполнителя и названием песни, так же колонки `instrumentalness` и `key` посколбку в них много пропущенных значений. В колонке `Popularity` заполним пропущенные значения средним."
   ],
   "metadata": {
    "collapsed": false
   }
  },
  {
   "cell_type": "code",
   "execution_count": 81,
   "id": "f69d6a02-fac9-48ec-9ae8-1613f27283d5",
   "metadata": {},
   "outputs": [],
   "source": [
    "data_processed = data.drop(data.columns[[0,1]], axis=1)\n",
    "data_processed = data_processed.drop(['instrumentalness', 'key'], axis=1)\n",
    "data_processed = data_processed.fillna({'Popularity': data_processed.Popularity.mean()})"
   ]
  },
  {
   "cell_type": "code",
   "execution_count": 82,
   "outputs": [],
   "source": [
    "X = data_processed.drop(['Class'], axis=1)\n",
    "y = data_processed.Class"
   ],
   "metadata": {
    "collapsed": false,
    "pycharm": {
     "name": "#%%\n"
    }
   }
  },
  {
   "cell_type": "code",
   "execution_count": 83,
   "outputs": [],
   "source": [
    "X_train, X_test, y_train, y_test = train_test_split(X, y, test_size=0.2, random_state=25)"
   ],
   "metadata": {
    "collapsed": false,
    "pycharm": {
     "name": "#%%\n"
    }
   }
  },
  {
   "cell_type": "code",
   "execution_count": 84,
   "outputs": [
    {
     "data": {
      "text/plain": "{'ccp_alpha': 0.0,\n 'class_weight': None,\n 'criterion': 'gini',\n 'max_depth': None,\n 'max_features': None,\n 'max_leaf_nodes': None,\n 'min_impurity_decrease': 0.0,\n 'min_samples_leaf': 1,\n 'min_samples_split': 2,\n 'min_weight_fraction_leaf': 0.0,\n 'random_state': None,\n 'splitter': 'best'}"
     },
     "execution_count": 84,
     "metadata": {},
     "output_type": "execute_result"
    }
   ],
   "source": [
    "clf = DecisionTreeClassifier()\n",
    "clf.get_params()"
   ],
   "metadata": {
    "collapsed": false,
    "pycharm": {
     "name": "#%%\n"
    }
   }
  },
  {
   "cell_type": "markdown",
   "source": [
    "Выбор гиперпараметров"
   ],
   "metadata": {
    "collapsed": false
   }
  },
  {
   "cell_type": "code",
   "execution_count": 96,
   "outputs": [],
   "source": [
    "parameters = {'max_depth': range(1, 35, 5),\n",
    "              'min_samples_split': range(2, 14, 2),\n",
    "              'min_samples_leaf': range(1, 12, 3),\n",
    "              'criterion': ['gini', 'entropy']}\n",
    "\n",
    "search = GridSearchCV(clf, parameters, cv=3)\n",
    "search.fit(X_train, y_train)\n",
    "best_tree1 = search.best_estimator_"
   ],
   "metadata": {
    "collapsed": false,
    "pycharm": {
     "name": "#%%\n"
    }
   }
  },
  {
   "cell_type": "code",
   "execution_count": 97,
   "outputs": [
    {
     "data": {
      "text/plain": "DecisionTreeClassifier(criterion='entropy', max_depth=6, min_samples_leaf=4,\n                       min_samples_split=8)"
     },
     "execution_count": 97,
     "metadata": {},
     "output_type": "execute_result"
    }
   ],
   "source": [
    "best_tree1"
   ],
   "metadata": {
    "collapsed": false,
    "pycharm": {
     "name": "#%%\n"
    }
   }
  },
  {
   "cell_type": "markdown",
   "source": [
    "Более узкий поиск наилучшего дерева"
   ],
   "metadata": {
    "collapsed": false
   }
  },
  {
   "cell_type": "code",
   "execution_count": 98,
   "outputs": [],
   "source": [
    "parameters = {'max_depth': range(1, 12),\n",
    "              'min_samples_split': range(4, 9),\n",
    "              'min_samples_leaf': range(2, 9),\n",
    "              'criterion': ['entropy']}\n",
    "\n",
    "search = GridSearchCV(clf, parameters, cv=3)\n",
    "search.fit(X_train, y_train)\n",
    "best_tree2 = search.best_estimator_"
   ],
   "metadata": {
    "collapsed": false,
    "pycharm": {
     "name": "#%%\n"
    }
   }
  },
  {
   "cell_type": "code",
   "execution_count": 99,
   "outputs": [
    {
     "data": {
      "text/plain": "DecisionTreeClassifier(criterion='entropy', max_depth=8, min_samples_leaf=5,\n                       min_samples_split=7)"
     },
     "execution_count": 99,
     "metadata": {},
     "output_type": "execute_result"
    }
   ],
   "source": [
    "best_tree2"
   ],
   "metadata": {
    "collapsed": false,
    "pycharm": {
     "name": "#%%\n"
    }
   }
  },
  {
   "cell_type": "code",
   "execution_count": 100,
   "outputs": [],
   "source": [
    "best_clf = DecisionTreeClassifier(criterion='entropy', max_depth=8, min_samples_split=7, min_samples_leaf=5)\n",
    "best_clf.fit(X_train, y_train)\n",
    "predicted_classes = best_clf.predict(X_test)"
   ],
   "metadata": {
    "collapsed": false,
    "pycharm": {
     "name": "#%%\n"
    }
   }
  },
  {
   "cell_type": "markdown",
   "source": [
    "Оценка качества классификации\n",
    "\n",
    "В данных есть дисбаланс классов, поэтому для оценки моделей лучше не использовать accuracy, больше подойдет f1"
   ],
   "metadata": {
    "collapsed": false
   }
  },
  {
   "cell_type": "code",
   "execution_count": 101,
   "outputs": [
    {
     "name": "stdout",
     "output_type": "stream",
     "text": [
      "multiclass_accuracy: 0.4519444444444444\n"
     ]
    }
   ],
   "source": [
    "print('multiclass_accuracy:', f1_score(predicted_classes, y_test, average='micro'))"
   ],
   "metadata": {
    "collapsed": false,
    "pycharm": {
     "name": "#%%\n"
    }
   }
  },
  {
   "cell_type": "markdown",
   "source": [
    "Качество классификации даже у самого хорошего дерева не высокое :("
   ],
   "metadata": {
    "collapsed": false,
    "pycharm": {
     "name": "#%% md\n"
    }
   }
  },
  {
   "cell_type": "markdown",
   "id": "11c54184-da20-4f53-9d5f-575e2cad3a4d",
   "metadata": {},
   "source": [
    "### Задание 3. Другие модели (5 баллов за модель)\n",
    "\n",
    "Проделайте операции из **Задания 2** с другими известными вам классификаторами. Стало ли лучше?"
   ]
  },
  {
   "cell_type": "markdown",
   "source": [
    "### kNN"
   ],
   "metadata": {
    "collapsed": false
   }
  },
  {
   "cell_type": "code",
   "execution_count": 91,
   "id": "eb381e31-ecb5-47aa-8eb0-1fed6e248c61",
   "metadata": {},
   "outputs": [
    {
     "name": "stdout",
     "output_type": "stream",
     "text": [
      "multiclass_accuracy: 0.31\n"
     ]
    }
   ],
   "source": [
    "knn_classifier = KNeighborsClassifier(n_neighbors=35)\n",
    "knn_classifier.fit(X_train, y_train)\n",
    "predictions = knn_classifier.predict(X_test)\n",
    "\n",
    "print('multiclass_accuracy:', f1_score(predictions, y_test, average='micro'))"
   ]
  },
  {
   "cell_type": "markdown",
   "source": [
    "### Linear regression"
   ],
   "metadata": {
    "collapsed": false
   }
  },
  {
   "cell_type": "code",
   "execution_count": 65,
   "outputs": [
    {
     "name": "stdout",
     "output_type": "stream",
     "text": [
      "multiclass_accuracy: 0.1175\n"
     ]
    }
   ],
   "source": [
    "regression = LinearRegression()\n",
    "\n",
    "regression.fit(X_train, y_train)\n",
    "linear_prediction = regression.predict(X_test)\n",
    "linear_prediction= np.round(linear_prediction)\n",
    "\n",
    "print('multiclass_accuracy:', f1_score(linear_prediction, y_test, average='micro'))"
   ],
   "metadata": {
    "collapsed": false,
    "pycharm": {
     "name": "#%%\n"
    }
   }
  },
  {
   "cell_type": "markdown",
   "source": [
    "### Clustering"
   ],
   "metadata": {
    "collapsed": false
   }
  },
  {
   "cell_type": "code",
   "execution_count": 58,
   "outputs": [],
   "source": [
    "clustering = AgglomerativeClustering(n_clusters=11)\n",
    "prediction = clustering.fit_predict(X_test)"
   ],
   "metadata": {
    "collapsed": false,
    "pycharm": {
     "name": "#%%\n"
    }
   }
  },
  {
   "cell_type": "code",
   "execution_count": 73,
   "outputs": [
    {
     "name": "stdout",
     "output_type": "stream",
     "text": [
      "multiclass_accuracy: 0.08\n"
     ]
    }
   ],
   "source": [
    "print('multiclass_accuracy:', f1_score(prediction, y_test, average='micro'))"
   ],
   "metadata": {
    "collapsed": false,
    "pycharm": {
     "name": "#%%\n"
    }
   }
  },
  {
   "cell_type": "markdown",
   "source": [
    "Кажется, задача не из простых. Во всех методах метрика f1 низкая. Но у дерева она лучше, чем у остальных."
   ],
   "metadata": {
    "collapsed": false,
    "pycharm": {
     "name": "#%% md\n"
    }
   }
  },
  {
   "cell_type": "markdown",
   "id": "a4d857d4-15fc-456d-adb3-d0ebd1690cfa",
   "metadata": {
    "pycharm": {
     "name": "#%% md\n"
    }
   },
   "source": [
    "### Задание 4. (3 балла)\n",
    "\n",
    "Раз уж вы работаете в командах, то у вас есть шанс обсудить любимые фильмы. Напишите сюда 3 фильма, которые хотели бы посмотреть вместе:\n",
    "\n",
    "1.\n",
    "\n",
    "2.\n",
    "\n",
    "3."
   ]
  }
 ],
 "metadata": {
  "kernelspec": {
   "display_name": "Python 3 (ipykernel)",
   "language": "python",
   "name": "python3"
  },
  "language_info": {
   "codemirror_mode": {
    "name": "ipython",
    "version": 3
   },
   "file_extension": ".py",
   "mimetype": "text/x-python",
   "name": "python",
   "nbconvert_exporter": "python",
   "pygments_lexer": "ipython3",
   "version": "3.8.10"
  }
 },
 "nbformat": 4,
 "nbformat_minor": 5
}